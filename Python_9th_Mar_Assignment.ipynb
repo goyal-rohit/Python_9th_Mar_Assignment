{
 "cells": [
  {
   "cell_type": "markdown",
   "source": [
    "###### Q1: What are the Probability Mass Function (PMF) and Probability Density Function (PDF)? Explain with an example."
   ],
   "metadata": {
    "collapsed": false
   }
  },
  {
   "cell_type": "markdown",
   "source": [
    "The Probability Mass Function (PMF) and Probability Density Function (PDF) are two ways of describing the probability distribution of a random variable.\n",
    "\n",
    "The PMF is used for discrete random variables and gives the probability of each possible outcome. For example, consider a coin flip. The PMF of the number of heads obtained in two flips would give the probabilities of getting 0, 1, or 2 heads. The PMF is often represented as a table, graph, or formula.\n",
    "\n",
    "The PDF is used for continuous random variables and gives the density of probabilities at each possible value of the variable. For example, consider the heights of adult humans. The PDF would give the density of probabilities at each possible height value. The PDF is often represented as a curve, where the area under the curve represents the total probability."
   ],
   "metadata": {
    "collapsed": false
   }
  },
  {
   "cell_type": "markdown",
   "source": [
    "#### Q2: What is Cumulative Density Function (CDF)? Explain with an example. Why CDF is used?"
   ],
   "metadata": {
    "collapsed": false
   }
  },
  {
   "cell_type": "markdown",
   "source": [
    "Cumulative distribution function (CDF) is used to provide information about the probability of a random variable being less than or equal to a specific value. It is a fundamental concept in probability theory and statistics and is widely used in many fields such as finance, engineering, and science.\n",
    "\n",
    "The CDF of a random variable X is defined as the probability that X is less than or equal to a certain value x. Mathematically, it can be expressed as:\n",
    "F(x) = P(X ≤ x)\n",
    "where F(x) is the CDF of X, and P(X ≤ x) is the probability that X is less than or equal to x.\n",
    "\n",
    "The CDF provides a comprehensive summary of the probability distribution of a random variable. It is used to calculate various statistical properties, such as mean, median, and mode, and to obtain other important probability measures, such as percentiles and quartiles.\n",
    "The CDF can also be used to compare different probability distributions, to check if a given distribution fits a particular data set, and to make predictions about future events.\n",
    "Example: suppose that we have a random variable X representing the heights of people in a population. We can use the CDF of X to determine the probability that a randomly selected person from the population has a height less than or equal to a certain value. If we know the CDF of X, we can also calculate the median height, the 25th percentile, or any other percentiles of the population distribution."
   ],
   "metadata": {
    "collapsed": false
   }
  },
  {
   "cell_type": "markdown",
   "source": [
    "#### Q3: What are some examples of situations where the normal distribution might be used as a model? Explain how the parameters of the normal distribution relate to the shape of the distribution."
   ],
   "metadata": {
    "collapsed": false
   }
  },
  {
   "cell_type": "markdown",
   "source": [
    "The normal distribution is commonly used as a model in situations where the data follows a bell-shaped curve.\n",
    "This occurs in many natural and social phenomena, including:\n",
    "\n",
    "1. Heights and weights of individuals in a population\n",
    "2. Scores on standardized tests such as the SAT or GRE\n",
    "3. Errors in measurements or observations\n",
    "4. Lengths of various objects such as leaves or animal tails\n",
    "5. Amounts of rainfall or temperature measurements\n",
    "\n",
    "The normal distribution is characterized by two parameters: the mean, which represents the center of the distribution, and the standard deviation, which represents the spread of the data around the mean. The mean determines the location of the peak of the bell-shaped curve, while the standard deviation determines how wide the curve is. A larger standard deviation indicates a wider and flatter curve, while a smaller standard deviation indicates a narrower and taller curve.\n",
    "\n",
    "The normal distribution is often used as a model in statistical analysis because it has many desirable properties. For example, many real-world phenomena follow a normal distribution, and the central limit theorem states that the sum or average of many independent random variables will approach a normal distribution regardless of the underlying distribution."
   ],
   "metadata": {
    "collapsed": false
   }
  },
  {
   "cell_type": "markdown",
   "source": [
    "#### Q4: Explain the importance of Normal Distribution. Give a few real-life examples of Normal Distribution."
   ],
   "metadata": {
    "collapsed": false
   }
  },
  {
   "cell_type": "markdown",
   "source": [
    "The normal distribution is an essential concept in statistics, probability theory, and data analysis. It is a continuous probability distribution that is symmetric around the mean, and it is widely used in various fields because of its simplicity, flexibility, and the Central Limit Theorem.\n",
    "\n",
    "The importance of normal distribution lies in the fact that it provides a mathematical model for many natural phenomena, and its properties are well-understood. Normal distribution plays a crucial role in statistical inference, hypothesis testing, and parameter estimation. It allows us to make probabilistic predictions about random variables and to perform various analyses such as confidence intervals, hypothesis tests, and regression analysis.\n",
    "\n",
    "Here are a few real-life examples of normal distribution:\n",
    "\n",
    "1. Heights of individuals: The distribution of heights of adult humans follows a normal distribution with a mean of around 5'7\" and a standard deviation of around 2.5 inches.\n",
    "2. IQ scores: The distribution of IQ scores follows a normal distribution with a mean of 100 and a standard deviation of 15.\n",
    "3. Blood pressure: The systolic blood pressure of a population follows a normal distribution with a mean of around 120 mmHg and a standard deviation of around 10 mmHg.\n",
    "4. Weight of objects: The weight of objects manufactured on a production line follows a normal distribution with a mean and standard deviation depending on the manufacturing process.\n",
    "5. Error terms in regression: In regression analysis, the error terms are assumed to follow a normal distribution.\n",
    "\n",
    "These examples illustrate how the normal distribution is a fundamental concept that can model a wide range of real-world phenomena."
   ],
   "metadata": {
    "collapsed": false
   }
  },
  {
   "cell_type": "markdown",
   "source": [
    "#### Q5: What is Bernoulli Distribution? Give an Example. What is the difference between Bernoulli Distribution and Binomial Distribution?"
   ],
   "metadata": {
    "collapsed": false
   }
  },
  {
   "cell_type": "markdown",
   "source": [
    "Bernoulli's distribution is a discrete probability distribution that models a binary outcome, where the event can either be a success (1) or failure (0). The Bernoulli distribution has a single parameter p, which represents the probability of success.\n",
    "\n",
    "Example: A coin toss can be modeled using Bernoulli distribution, where a head can be considered a success (1) and a tail can be considered a failure (0). Assuming the coin is fair, the probability of getting a head is 0.5, and the probability of getting a tail is also 0.5. Thus, the probability mass function (PMF) of a Bernoulli distribution can be given as:\n",
    "\n",
    "P(X=1) = p = 0.5 (probability of getting a head)\n",
    "P(X=0) = 1-p = 0.5 (probability of getting a tail)\n",
    "\n",
    "The main difference between Bernoulli distribution and binomial distribution is that Bernoulli distribution is a special case of binomial distribution, where n=1. Binomial distribution models the probability of getting x successes in n independent Bernoulli trials, where each trial has a probability p of success. Therefore, binomial distribution has two parameters, n and p, whereas Bernoulli distribution has a single parameter, p."
   ],
   "metadata": {
    "collapsed": false
   }
  },
  {
   "cell_type": "markdown",
   "source": [
    "#### Q6. Consider a dataset with a mean of 50 and a standard deviation of 10. If we assume that the dataset is normally distributed, what is the probability that a randomly selected observation will be greater than 60? Use the appropriate formula and show your calculations."
   ],
   "metadata": {
    "collapsed": false
   }
  },
  {
   "cell_type": "markdown",
   "source": [
    "calculate the z-score\n",
    "z = (60-50)/10 = 1\n",
    "\n",
    "Using Z table the probability of getting 1 standard deviation or getting 60 or less is 0.84134\n",
    "\n",
    "Hence, to calculate the probability of getting more than 60 is 1-0.84134 = 0.1586 or 15.86%"
   ],
   "metadata": {
    "collapsed": false
   }
  },
  {
   "cell_type": "markdown",
   "source": [
    "#### Q7: Explain uniform Distribution with an example."
   ],
   "metadata": {
    "collapsed": false
   }
  },
  {
   "cell_type": "markdown",
   "source": [
    "Uniform distribution is a probability distribution in which every possible outcome has an equal chance of occurring. In other words, the probability of a value occurring in a given range is proportional to the length of that range. A common example of uniform distribution is rolling a fair dice. Each number (1-6) on the dice has an equal probability of occurring, which is 1/6.\n",
    "\n",
    "Another example of uniform distribution is the distribution of lottery numbers. In many lotteries, a set of numbers is drawn from a larger pool of numbers, and each number in the pool has an equal chance of being drawn. Therefore, the distribution of lottery numbers follows a uniform distribution."
   ],
   "metadata": {
    "collapsed": false
   }
  },
  {
   "cell_type": "markdown",
   "source": [
    "#### Q8: What is the z score? State the importance of the z score."
   ],
   "metadata": {
    "collapsed": false
   }
  },
  {
   "cell_type": "markdown",
   "source": [
    "The z-score, also known as the standard score, is a statistical measure that indicates how many standard deviations a data point is from the mean of a dataset. It is calculated by subtracting the mean of the dataset from the value of the data point, and then dividing the result by the standard deviation of the dataset.\n",
    "\n",
    "The z-score is important because it allows us to compare values from different datasets on a common scale. A positive z-score indicates that the data point is above the mean, while a negative z-score indicates that the data point is below the mean. A z-score of 0 means that the data point is exactly at the mean.\n",
    "\n",
    "The z-score is also used to calculate probabilities using the standard normal distribution. The standard normal distribution is a normal distribution with a mean of 0 and a standard deviation of 1. By converting data points to their corresponding z-scores, we can use standard normal distribution tables to calculate probabilities for any normal distribution.\n",
    "\n",
    "For example, suppose we have a dataset of test scores with a mean of 75 and a standard deviation of 10. If a student scored an 85 on the test, we can calculate the z-score as follows:\n",
    "\n",
    "z = (85 - 75) / 10 = 1\n",
    "\n",
    "This means that the student's score is one standard deviation above the mean. We can use a standard normal distribution table to find the probability of getting a z-score of 1 or higher, which is approximately 0.1587 or 15.87%."
   ],
   "metadata": {
    "collapsed": false
   }
  },
  {
   "cell_type": "markdown",
   "source": [
    "#### Q9: What is Central Limit Theorem? State the significance of the Central Limit Theorem."
   ],
   "metadata": {
    "collapsed": false
   }
  },
  {
   "cell_type": "markdown",
   "source": [
    "The Central Limit Theorem (CLT) states that for a large enough sample size, the sample mean of a random variable with any distribution approaches a normal distribution, regardless of the original distribution. In other words, the sum or average of a large number of independent, identically distributed random variables will be approximately normally distributed.\n",
    "\n",
    "The significance of the Central Limit Theorem is that it provides a powerful tool for statistical inference, allowing us to use normal distribution assumptions and related techniques for a wide range of real-world problems. This is particularly important when dealing with complex data sets with unknown or non-standard distributions, as the normal distribution is well understood and can be used to make probabilistic statements about the data."
   ],
   "metadata": {
    "collapsed": false
   }
  },
  {
   "cell_type": "markdown",
   "source": [
    "#### Q10: State the assumptions of the Central Limit Theorem."
   ],
   "metadata": {
    "collapsed": false
   }
  },
  {
   "cell_type": "markdown",
   "source": [
    "The Central Limit Theorem (CLT) relies on three main assumptions:\n",
    "\n",
    "1. Independence: The random variables in the sample should be independent of each other. This means that the outcome of one variable should not influence the outcome of any other variable in the sample.\n",
    "\n",
    "2. Sample size: The sample size should be sufficiently large. The larger the sample size, the more likely it is that the sample mean will be normally distributed, even if the underlying population is not normally distributed.\n",
    "\n",
    "3. Finite variance: The population from which the sample is drawn should have a finite variance. If the variance is infinite, the CLT may not hold."
   ],
   "metadata": {
    "collapsed": false
   }
  },
  {
   "cell_type": "markdown",
   "source": [],
   "metadata": {
    "collapsed": false
   }
  }
 ],
 "metadata": {
  "kernelspec": {
   "display_name": "Python 3",
   "language": "python",
   "name": "python3"
  },
  "language_info": {
   "codemirror_mode": {
    "name": "ipython",
    "version": 2
   },
   "file_extension": ".py",
   "mimetype": "text/x-python",
   "name": "python",
   "nbconvert_exporter": "python",
   "pygments_lexer": "ipython2",
   "version": "2.7.6"
  }
 },
 "nbformat": 4,
 "nbformat_minor": 0
}
